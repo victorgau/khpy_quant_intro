{
 "cells": [
  {
   "cell_type": "markdown",
   "metadata": {},
   "source": [
    "# 簡單財報選股"
   ]
  },
  {
   "cell_type": "markdown",
   "metadata": {},
   "source": [
    "## 相關連結\n",
    "\n",
    "上市公司基本資料\n",
    "* [https://data.gov.tw/dataset/18419](https://data.gov.tw/dataset/18419)\n",
    "\n",
    "公開資訊觀測站\n",
    "* [http://mops.twse.com.tw/mops/web/index](http://mops.twse.com.tw/mops/web/index)\n",
    "\n",
    "個股速覽 (台積電)\n",
    "* [http://jsjustweb.jihsun.com.tw/z/zc/zcx/zcx_2330.djhtm](http://jsjustweb.jihsun.com.tw/z/zc/zcx/zcx_2330.djhtm)\n",
    "\n",
    "台積電綜合損益表年表 (台積電)\n",
    "* [http://jsjustweb.jihsun.com.tw/z/zc/zcq/zcqa/zcqa_2330.djhtm](http://jsjustweb.jihsun.com.tw/z/zc/zcq/zcqa/zcqa_2330.djhtm)\n",
    "\n",
    "台積電資產負債表年表 (台積電)\n",
    "* [http://jsjustweb.jihsun.com.tw/z/zc/zcp/zcpb/zcpb_2330.djhtm](http://jsjustweb.jihsun.com.tw/z/zc/zcp/zcpb/zcpb_2330.djhtm)"
   ]
  },
  {
   "cell_type": "markdown",
   "metadata": {},
   "source": [
    "---"
   ]
  },
  {
   "cell_type": "markdown",
   "metadata": {},
   "source": [
    "## 利用財務比率訂定策略"
   ]
  },
  {
   "cell_type": "code",
   "execution_count": null,
   "metadata": {},
   "outputs": [],
   "source": [
    "import numpy as np\n",
    "import pandas as pd\n",
    "import pickle"
   ]
  },
  {
   "cell_type": "code",
   "execution_count": null,
   "metadata": {},
   "outputs": [],
   "source": [
    "def ROE_Strategy(stock_no):\n",
    "    url = \"http://jsjustweb.jihsun.com.tw/z/zc/zcr/zcr0.djhtm?b=Y&a={}\".format(stock_no)\n",
    "    dfs = pd.read_html(url)\n",
    "    df = dfs[2]\n",
    "    years = df[df[0]=='期別'].iloc[0][1:].astype(int)\n",
    "    roe = df[df[0]==\"ROE(B)─常續利益\"].iloc[0][1:].astype(float)\n",
    "    result = sum(np.array(roe)[:5] > 15)\n",
    "    print(stock_no, \", ROE:\", list(roe), \" ==>\", result)\n",
    "    return result >= 4"
   ]
  },
  {
   "cell_type": "markdown",
   "metadata": {},
   "source": [
    "---"
   ]
  },
  {
   "cell_type": "markdown",
   "metadata": {},
   "source": [
    "## 抓取上市公司基本資料"
   ]
  },
  {
   "cell_type": "code",
   "execution_count": null,
   "metadata": {},
   "outputs": [],
   "source": [
    "import pandas as pd"
   ]
  },
  {
   "cell_type": "code",
   "execution_count": null,
   "metadata": {},
   "outputs": [],
   "source": [
    "url = \"https://dts.twse.com.tw/opendata/t187ap03_L.csv\""
   ]
  },
  {
   "cell_type": "code",
   "execution_count": null,
   "metadata": {},
   "outputs": [],
   "source": [
    "df = pd.read_csv(url, index_col=False, encoding=\"utf8\")"
   ]
  },
  {
   "cell_type": "code",
   "execution_count": null,
   "metadata": {},
   "outputs": [],
   "source": [
    "df.head()"
   ]
  },
  {
   "cell_type": "markdown",
   "metadata": {},
   "source": [
    "---"
   ]
  },
  {
   "cell_type": "markdown",
   "metadata": {},
   "source": [
    "## 找出符合策略的股票代號"
   ]
  },
  {
   "cell_type": "code",
   "execution_count": null,
   "metadata": {},
   "outputs": [],
   "source": [
    "companies = []\n",
    "for x in df['公司代號']:\n",
    "    try:\n",
    "        if ROE_Strategy(x):\n",
    "            companies.append(x)\n",
    "    except Exception as e:\n",
    "        print(x, \"==>\", e.args)"
   ]
  },
  {
   "cell_type": "code",
   "execution_count": null,
   "metadata": {},
   "outputs": [],
   "source": [
    "len(companies)"
   ]
  },
  {
   "cell_type": "code",
   "execution_count": null,
   "metadata": {},
   "outputs": [],
   "source": [
    "companies"
   ]
  },
  {
   "cell_type": "markdown",
   "metadata": {},
   "source": [
    "---"
   ]
  },
  {
   "cell_type": "markdown",
   "metadata": {},
   "source": [
    "## 將結果存至硬碟"
   ]
  },
  {
   "cell_type": "code",
   "execution_count": null,
   "metadata": {},
   "outputs": [],
   "source": [
    "with open(\"ROE.pkl\",\"wb\") as fpkl:\n",
    "    pickle.dump(companies, fpkl)"
   ]
  },
  {
   "cell_type": "markdown",
   "metadata": {},
   "source": [
    "---"
   ]
  },
  {
   "cell_type": "markdown",
   "metadata": {},
   "source": [
    "## 從檔案讀回資料"
   ]
  },
  {
   "cell_type": "code",
   "execution_count": null,
   "metadata": {},
   "outputs": [],
   "source": [
    "with open(\"ROE.pkl\",\"rb\") as fpkl:\n",
    "    companies = pickle.load(fpkl)"
   ]
  },
  {
   "cell_type": "code",
   "execution_count": null,
   "metadata": {},
   "outputs": [],
   "source": [
    "df['公司代號'].head()"
   ]
  },
  {
   "cell_type": "code",
   "execution_count": null,
   "metadata": {},
   "outputs": [],
   "source": [
    "df[df['公司代號']==2330].iloc[0]['公司簡稱']"
   ]
  },
  {
   "cell_type": "code",
   "execution_count": null,
   "metadata": {},
   "outputs": [],
   "source": [
    "# 公司代號轉公司簡稱\n",
    "def get_company_name(df, stock_no):\n",
    "    return df[df['公司代號']==stock_no].iloc[0]['公司簡稱']"
   ]
  },
  {
   "cell_type": "code",
   "execution_count": null,
   "metadata": {},
   "outputs": [],
   "source": [
    "for x in companies:\n",
    "    print(x, \"==>\", get_company_name(df, x))"
   ]
  }
 ],
 "metadata": {
  "kernelspec": {
   "display_name": "Python 3",
   "language": "python",
   "name": "python3"
  },
  "language_info": {
   "codemirror_mode": {
    "name": "ipython",
    "version": 3
   },
   "file_extension": ".py",
   "mimetype": "text/x-python",
   "name": "python",
   "nbconvert_exporter": "python",
   "pygments_lexer": "ipython3",
   "version": "3.8.3"
  }
 },
 "nbformat": 4,
 "nbformat_minor": 4
}
