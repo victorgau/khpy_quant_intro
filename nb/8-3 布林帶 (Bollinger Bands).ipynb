{
 "cells": [
  {
   "cell_type": "markdown",
   "metadata": {},
   "source": [
    "# 繪製 BBands"
   ]
  },
  {
   "cell_type": "code",
   "execution_count": null,
   "metadata": {},
   "outputs": [],
   "source": [
    "import pandas as pd\n",
    "import pandas_datareader.data as web"
   ]
  },
  {
   "cell_type": "code",
   "execution_count": null,
   "metadata": {},
   "outputs": [],
   "source": [
    "# 讀取從指定日期之後的股價資訊\n",
    "df = web.DataReader(\"TSLA\", \"yahoo\", \"2018-01-01\")"
   ]
  },
  {
   "cell_type": "markdown",
   "metadata": {},
   "source": [
    "## 畫出BBands"
   ]
  },
  {
   "cell_type": "code",
   "execution_count": null,
   "metadata": {},
   "outputs": [],
   "source": [
    "# bbands策略,N=20\n",
    "df['20ma'] = pd.Series.rolling(df['Adj Close'], window=20).mean()\n",
    "df['std'] = pd.Series.rolling(df['Adj Close'], window=20).std()\n",
    "# 上軌=20ma+1.5sd ,中軌=20ma, 下軌=20ma-1.5sd\n",
    "df['ubb'] = df['20ma'] + 1.5*df['std']\n",
    "df['mbb'] = df['20ma']\n",
    "df['lbb'] = df['20ma'] - 1.5*df['std']"
   ]
  },
  {
   "cell_type": "code",
   "execution_count": null,
   "metadata": {},
   "outputs": [],
   "source": [
    "df[['Adj Close','ubb','mbb', 'lbb']].plot(grid=True, figsize=(10,8))"
   ]
  }
 ],
 "metadata": {
  "kernelspec": {
   "display_name": "Python 3",
   "language": "python",
   "name": "python3"
  },
  "language_info": {
   "codemirror_mode": {
    "name": "ipython",
    "version": 3
   },
   "file_extension": ".py",
   "mimetype": "text/x-python",
   "name": "python",
   "nbconvert_exporter": "python",
   "pygments_lexer": "ipython3",
   "version": "3.8.3"
  }
 },
 "nbformat": 4,
 "nbformat_minor": 4
}
