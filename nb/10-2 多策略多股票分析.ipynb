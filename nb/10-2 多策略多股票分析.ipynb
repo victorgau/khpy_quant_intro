{
 "cells": [
  {
   "cell_type": "markdown",
   "metadata": {},
   "source": [
    "<a href=\"https://colab.research.google.com/github/victorgau/python_investment/blob/master/10-2%20%E5%A4%9A%E7%AD%96%E7%95%A5%E5%A4%9A%E8%82%A1%E7%A5%A8%E5%88%86%E6%9E%90.ipynb\" target=\"_parent\"><img src=\"https://colab.research.google.com/assets/colab-badge.svg\" alt=\"Open In Colab\"/></a>"
   ]
  },
  {
   "cell_type": "markdown",
   "metadata": {},
   "source": [
    "# 多策略多股票分析"
   ]
  },
  {
   "cell_type": "code",
   "execution_count": null,
   "metadata": {},
   "outputs": [],
   "source": [
    "# 將需要的模組跟檔案放入 colab 中\n",
    "!wget https://github.com/victorgau/python_investment/raw/master/backtest.py -o /dev/null\n",
    "!wget https://github.com/victorgau/python_investment/raw/master/stockdata -o /dev/null\n",
    "!wget https://github.com/victorgau/python_investment/raw/master/twstockdata -o /dev/null"
   ]
  },
  {
   "cell_type": "code",
   "execution_count": null,
   "metadata": {},
   "outputs": [],
   "source": [
    "import numpy as np\n",
    "import pandas as pd\n",
    "import pickle"
   ]
  },
  {
   "cell_type": "code",
   "execution_count": null,
   "metadata": {},
   "outputs": [],
   "source": [
    "# 載入計算回測指標的函式\n",
    "from backtest import indicators"
   ]
  },
  {
   "cell_type": "code",
   "execution_count": null,
   "metadata": {},
   "outputs": [],
   "source": [
    "# 用來讀入 strategies 裡面的策略\n",
    "from inspect import getmembers, isfunction\n",
    "import strategies"
   ]
  },
  {
   "cell_type": "code",
   "execution_count": null,
   "metadata": {},
   "outputs": [],
   "source": [
    "filename = 'twstockdata'"
   ]
  },
  {
   "cell_type": "code",
   "execution_count": null,
   "metadata": {},
   "outputs": [],
   "source": [
    "# 讀出預先下載好的股價資料\n",
    "with open(filename, 'rb') as f:\n",
    "    data = pickle.load(file=f)\n",
    "\n",
    "# 計算各支股票的回測結果\n",
    "results = []\n",
    "\n",
    "strategy_list = [member[1] for member in getmembers(strategies) if isfunction(member[1])]\n",
    "\n",
    "for symbol in data:\n",
    "    for strategy in strategy_list:\n",
    "        try:\n",
    "            strategy(data[symbol])\n",
    "            if np.all(data[symbol]['signals']==0):\n",
    "                print(\"Symbol:\", symbol, \"使用\", strategy.__name__, \"策略沒有出現買賣訊號。\")\n",
    "                continue\n",
    "            SharpeRatio, maxdd, maxddd, finalRet = indicators(data[symbol])\n",
    "            days = (data[symbol].index[-1] - data[symbol].index[0]).days\n",
    "            results.append((SharpeRatio, maxdd, maxddd, finalRet, days,\n",
    "                            data[symbol][data[symbol]['signals'] > 0]['signals'].sum(), symbol, strategy.__name__))\n",
    "        except Exception as e:\n",
    "            print(\"Error occurs at symbol:\", symbol, \"Strategy:\", strategy.__name__, \"==>\", e.args)\n",
    "\n",
    "\n",
    "results_df = pd.DataFrame(results, columns=['sharpe','MaxDrawDown','MaxDrawDownDuration','returns','days', 'entries','symbol','strategy'])"
   ]
  },
  {
   "cell_type": "code",
   "execution_count": null,
   "metadata": {},
   "outputs": [],
   "source": [
    "# Sorted by MaxDrawDown:\n",
    "results_df.sort_values('MaxDrawDown',ascending=False).head()"
   ]
  },
  {
   "cell_type": "code",
   "execution_count": null,
   "metadata": {},
   "outputs": [],
   "source": [
    "# Sorted by returns:\n",
    "results_df.sort_values('returns',ascending=False).head()"
   ]
  },
  {
   "cell_type": "code",
   "execution_count": null,
   "metadata": {},
   "outputs": [],
   "source": [
    "# Sorted by sharpe:\n",
    "results_df.sort_values('sharpe',ascending=False).head()"
   ]
  },
  {
   "cell_type": "code",
   "execution_count": null,
   "metadata": {},
   "outputs": [],
   "source": [
    "# Sorted by MaxDrawDownDuration:\n",
    "results_df.sort_values('MaxDrawDownDuration',ascending=True).head()"
   ]
  }
 ],
 "metadata": {
  "kernelspec": {
   "display_name": "Python 3",
   "language": "python",
   "name": "python3"
  },
  "language_info": {
   "codemirror_mode": {
    "name": "ipython",
    "version": 3
   },
   "file_extension": ".py",
   "mimetype": "text/x-python",
   "name": "python",
   "nbconvert_exporter": "python",
   "pygments_lexer": "ipython3",
   "version": "3.7.1"
  }
 },
 "nbformat": 4,
 "nbformat_minor": 2
}
